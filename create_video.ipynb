{
 "cells": [
  {
   "cell_type": "code",
   "execution_count": 2,
   "metadata": {},
   "outputs": [
    {
     "name": "stdout",
     "output_type": "stream",
     "text": [
      "Moviepy - Building video output_video.mp4.\n",
      "MoviePy - Writing audio in output_videoTEMP_MPY_wvf_snd.mp4\n"
     ]
    },
    {
     "name": "stderr",
     "output_type": "stream",
     "text": [
      "                                                                    \r"
     ]
    },
    {
     "name": "stdout",
     "output_type": "stream",
     "text": [
      "MoviePy - Done.\n",
      "Moviepy - Writing video output_video.mp4\n",
      "\n"
     ]
    },
    {
     "name": "stderr",
     "output_type": "stream",
     "text": [
      "                                                              \r"
     ]
    },
    {
     "name": "stdout",
     "output_type": "stream",
     "text": [
      "Moviepy - Done !\n",
      "Moviepy - video ready output_video.mp4\n"
     ]
    }
   ],
   "source": [
    "from moviepy.editor import ImageClip, concatenate_videoclips, AudioFileClip\n",
    "\n",
    "# Set paths to your images and audio file\n",
    "images = [\"./video_images/vid_image1.png\", \"./video_images/vid_image6.png\", \"./video_images/vid_image7.png\"]\n",
    "audio_path = \"./voiceover/speech1.mp3\"\n",
    "output_video_path = \"output_video.mp4\"\n",
    "\n",
    "# Load the Audio File\n",
    "audio = AudioFileClip(audio_path)\n",
    "audio_duration = audio.duration  # Get the duration of the audio\n",
    "\n",
    "# Define how long each image should stay on screen\n",
    "# Here I am making each image stay for a duration equal to the audio length divided by the number of images\n",
    "image_duration = audio_duration / len(images)\n",
    "\n",
    "# Create a list of clips from the images with the specified duration\n",
    "clips = [ImageClip(img).set_duration(image_duration) for img in images]\n",
    "\n",
    "# Concatenate all the image clips into one video clip\n",
    "video_clip = concatenate_videoclips(clips, method=\"compose\")\n",
    "\n",
    "# Set the audio of the video\n",
    "video_clip = video_clip.set_audio(audio)\n",
    "\n",
    "# Set fps (frames per second) for the video\n",
    "fps = 24  # You can adjust fps as needed\n",
    "\n",
    "# Export the final video with fps specified\n",
    "video_clip.write_videofile(output_video_path, codec=\"libx264\", audio_codec=\"aac\", fps=fps)"
   ]
  }
 ],
 "metadata": {
  "kernelspec": {
   "display_name": "Python 3",
   "language": "python",
   "name": "python3"
  },
  "language_info": {
   "codemirror_mode": {
    "name": "ipython",
    "version": 3
   },
   "file_extension": ".py",
   "mimetype": "text/x-python",
   "name": "python",
   "nbconvert_exporter": "python",
   "pygments_lexer": "ipython3",
   "version": "3.12.1"
  }
 },
 "nbformat": 4,
 "nbformat_minor": 2
}

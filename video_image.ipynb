{
 "cells": [
  {
   "cell_type": "code",
   "execution_count": 2,
   "metadata": {},
   "outputs": [
    {
     "name": "stdout",
     "output_type": "stream",
     "text": [
      "Image saved to ./video_images\\vid_image_6.png\n"
     ]
    }
   ],
   "source": [
    "from dotenv import load_dotenv\n",
    "from openai import OpenAI\n",
    "import os\n",
    "import requests\n",
    "load_dotenv()\n",
    "client = OpenAI()\n",
    "\n",
    "\n",
    "image_type=\"illustration\"\n",
    "\n",
    "response = client.images.generate(\n",
    "  model=\"dall-e-3\",\n",
    "  prompt=f'{image_type} of {\"Cut to a shot of a pink and an albino axolotl.\"}',\n",
    "  size=\"1024x1024\",\n",
    "  quality=\"standard\",\n",
    "  n=1,\n",
    "  )\n",
    "\n",
    "# response = client.images.create_variation(\n",
    "#   model=\"dall-e-2\",\n",
    "#   image=open(\"./video_images/vid_image2.png\", \"rb\"),\n",
    "#   n=1,\n",
    "#   size=\"1024x1024\"\n",
    "# )\n",
    "\n",
    "\n",
    "image_url = response.data[0].url\n",
    "\n",
    "# Specify the local directory where you want to save the image\n",
    "local_dir = \"./video_images\"\n",
    "\n",
    "# Generate a filename (you can customize this)\n",
    "filename = \"vid_image_6.png\"\n",
    "\n",
    "# Combine the directory and filename\n",
    "local_path = os.path.join(local_dir, filename)\n",
    "\n",
    "image_data = requests.get(image_url).content\n",
    "\n",
    "# Save the image directly to the local path\n",
    "with open(local_path, \"wb\") as f:\n",
    "    f.write(image_data)\n",
    "\n",
    "print(f\"Image saved to {local_path}\")"
   ]
  }
 ],
 "metadata": {
  "kernelspec": {
   "display_name": "Python 3",
   "language": "python",
   "name": "python3"
  },
  "language_info": {
   "codemirror_mode": {
    "name": "ipython",
    "version": 3
   },
   "file_extension": ".py",
   "mimetype": "text/x-python",
   "name": "python",
   "nbconvert_exporter": "python",
   "pygments_lexer": "ipython3",
   "version": "3.12.1"
  }
 },
 "nbformat": 4,
 "nbformat_minor": 2
}

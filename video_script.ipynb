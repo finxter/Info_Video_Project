{
 "cells": [
  {
   "cell_type": "code",
   "execution_count": 1,
   "metadata": {},
   "outputs": [],
   "source": [
    "#pip install pillow selenium\n",
    "from selenium import webdriver\n",
    "from selenium.webdriver.common.by import By\n",
    "from selenium.webdriver.support.ui import WebDriverWait\n",
    "from selenium.webdriver.support import expected_conditions as EC\n",
    "from PIL import Image\n",
    "import time\n"
   ]
  },
  {
   "cell_type": "code",
   "execution_count": 2,
   "metadata": {},
   "outputs": [
    {
     "name": "stderr",
     "output_type": "stream",
     "text": [
      "<>:5: SyntaxWarning: invalid escape sequence '\\c'\n",
      "<>:5: SyntaxWarning: invalid escape sequence '\\c'\n",
      "C:\\Users\\myass\\AppData\\Local\\Temp\\ipykernel_12628\\3997146069.py:5: SyntaxWarning: invalid escape sequence '\\c'\n",
      "  webdriver_path = 'C:\\chromedriver_win32\\chromedriver.exe'\n"
     ]
    }
   ],
   "source": [
    "# Define the URL of the web page we want to screenshot\n",
    "\n",
    "url = \"https://www.treehugger.com/things-you-dont-know-about-axolotl-4863490\"\n",
    "\n",
    "webdriver_path = 'C:\\chromedriver_win32\\chromedriver.exe'\n",
    "\n",
    "\n",
    "# Set up the webdriver\n",
    "\n",
    "options = webdriver.ChromeOptions()\n",
    "options.add_argument('--headless=new') \n",
    "# Run the browser in headless mode to prevent a window from popping up\n",
    "driver = webdriver.Chrome(options=options)"
   ]
  },
  {
   "cell_type": "code",
   "execution_count": 3,
   "metadata": {},
   "outputs": [
    {
     "name": "stderr",
     "output_type": "stream",
     "text": [
      "c:\\Users\\myass\\AppData\\Local\\Programs\\Python\\Python312\\Lib\\site-packages\\selenium\\webdriver\\remote\\webelement.py:343: UserWarning: name used for saved screenshot does not match file type. It should end with a `.png` extension\n",
      "  warnings.warn(\n"
     ]
    }
   ],
   "source": [
    "# Load the web page\n",
    "\n",
    "driver.get(url)\n",
    "# Take a screenshot of the entire page\n",
    "try:\n",
    "    element = WebDriverWait(driver, 20).until(EC.presence_of_element_located((By.TAG_NAME, 'body')))\n",
    "    S = lambda X: driver.execute_script(\"return document.body.parentNode.scroll\" + X)\n",
    "    driver.set_window_size(S('Width'),S('Height'))\n",
    "    driver.find_element(By.TAG_NAME,\"body\").screenshot(\"./images/axolotl_2.jpg\")\n",
    "    \n",
    "finally:\n",
    "    driver.quit()"
   ]
  },
  {
   "cell_type": "code",
   "execution_count": null,
   "metadata": {},
   "outputs": [],
   "source": [
    "img = Image.open(\"./images/axolotl_1.jpg\")\n",
    "img.show()"
   ]
  },
  {
   "cell_type": "code",
   "execution_count": 4,
   "metadata": {},
   "outputs": [],
   "source": [
    "from dotenv import load_dotenv\n",
    "import base64\n",
    "import requests\n",
    "from openai import OpenAI\n",
    "\n",
    "load_dotenv()\n",
    "client = OpenAI()\n",
    "\n",
    "# Path to your image\n",
    "image_path_1 = \"./images/axolotl_1.jpg\"\n",
    "image_path_2 = \"./images/axolotl_2.jpg\"\n",
    "\n",
    "# Function to encode the image\n",
    "def encode_image(image_path):\n",
    "  with open(image_path, \"rb\") as image_file:\n",
    "    return base64.b64encode(image_file.read()).decode('utf-8')\n",
    "\n",
    "# Getting the base64 string\n",
    "base64_image_1 = encode_image(image_path_1)\n",
    "base64_image_2 = encode_image(image_path_2)\n"
   ]
  },
  {
   "cell_type": "code",
   "execution_count": 5,
   "metadata": {},
   "outputs": [],
   "source": [
    "response = client.chat.completions.create(\n",
    "  model=\"gpt-4o\",\n",
    "  messages=[\n",
    "    {\n",
    "      \"role\": \"user\",\n",
    "      \"content\": [\n",
    "        {\n",
    "          \"type\": \"text\",\n",
    "          \"text\": \"You are a prominent script writer for YouTube videos. Take the info from the images and make a one-minute-long video script for me showing the unknown facts of the axolotl.\",\n",
    "        },\n",
    "        {\n",
    "          \"type\": \"image_url\",\n",
    "          \"image_url\": {\n",
    "            \"url\": f\"data:image/jpeg;base64,{base64_image_1}\"\n",
    "          }\n",
    "        },\n",
    "        {\n",
    "          \"type\": \"image_url\",\n",
    "          \"image_url\": {\n",
    "            \"url\": f\"data:image/jpeg;base64,{base64_image_2}\"\n",
    "          }\n",
    "        },\n",
    "      ],\n",
    "    }\n",
    "  ],\n",
    "  max_tokens=300,\n",
    ")"
   ]
  },
  {
   "cell_type": "code",
   "execution_count": 7,
   "metadata": {},
   "outputs": [
    {
     "name": "stdout",
     "output_type": "stream",
     "text": [
      "Choice(finish_reason='length', index=0, logprobs=None, message=ChatCompletionMessage(content='[Opening shot: A lively aquarium scene with colorful axolotls swimming around.]\\n\\nNarrator (excited tone): \"Hey there, animal lovers! Today, we\\'re diving deep into the fascinating world of one of nature\\'s most mysterious creatures – the axolotl! Stick around to uncover some amazing facts that you probably never knew about these remarkable amphibians.\"\\n\\n[Cut to a close-up shot of a smiling axolotl.]\\n\\nNarrator: \"Number one: Axolotls are famous for their unique ability to remain in their larval stage for their entire lives! That\\'s right, they look like babies forever, retaining their cute, frilly gills.\"\\n\\n[Cut to a clip of an axolotl eating a worm.]\\n\\nNarrator: \"Fact two: These little guys are native to just one place on Earth – Lake Xochimilco in Mexico! And guess what? They\\'re carnivores, chomping down on worms and insects for their meals.\"\\n\\n[Cut to a close-up of an axolotl’s regenerating limb.]\\n\\nNarrator: \"Check this out – axolotls can regenerate lost body parts! Imagine losing a limb and growing it back, good as new. Scientists are fascinated by this incredible ability and study it extensively.\"\\n\\n[Cut to a shot of a pink and an albino axolotl.]\\n\\nNarrator: \"Now, did you know axolotls come in various colors? While wild ones are usually dark brown or black, those in captivity', role='assistant', function_call=None, tool_calls=None))\n"
     ]
    }
   ],
   "source": [
    "print(response.choices[0])"
   ]
  },
  {
   "cell_type": "code",
   "execution_count": 8,
   "metadata": {},
   "outputs": [
    {
     "name": "stdout",
     "output_type": "stream",
     "text": [
      "[Opening shot: A lively aquarium scene with colorful axolotls swimming around.]\n",
      "\n",
      "Narrator (excited tone): \"Hey there, animal lovers! Today, we're diving deep into the fascinating world of one of nature's most mysterious creatures – the axolotl! Stick around to uncover some amazing facts that you probably never knew about these remarkable amphibians.\"\n",
      "\n",
      "[Cut to a close-up shot of a smiling axolotl.]\n",
      "\n",
      "Narrator: \"Number one: Axolotls are famous for their unique ability to remain in their larval stage for their entire lives! That's right, they look like babies forever, retaining their cute, frilly gills.\"\n",
      "\n",
      "[Cut to a clip of an axolotl eating a worm.]\n",
      "\n",
      "Narrator: \"Fact two: These little guys are native to just one place on Earth – Lake Xochimilco in Mexico! And guess what? They're carnivores, chomping down on worms and insects for their meals.\"\n",
      "\n",
      "[Cut to a close-up of an axolotl’s regenerating limb.]\n",
      "\n",
      "Narrator: \"Check this out – axolotls can regenerate lost body parts! Imagine losing a limb and growing it back, good as new. Scientists are fascinated by this incredible ability and study it extensively.\"\n",
      "\n",
      "[Cut to a shot of a pink and an albino axolotl.]\n",
      "\n",
      "Narrator: \"Now, did you know axolotls come in various colors? While wild ones are usually dark brown or black, those in captivity\n"
     ]
    }
   ],
   "source": [
    "print(response.choices[0].message.content)"
   ]
  }
 ],
 "metadata": {
  "kernelspec": {
   "display_name": "Python 3",
   "language": "python",
   "name": "python3"
  },
  "language_info": {
   "codemirror_mode": {
    "name": "ipython",
    "version": 3
   },
   "file_extension": ".py",
   "mimetype": "text/x-python",
   "name": "python",
   "nbconvert_exporter": "python",
   "pygments_lexer": "ipython3",
   "version": "3.12.1"
  }
 },
 "nbformat": 4,
 "nbformat_minor": 2
}
